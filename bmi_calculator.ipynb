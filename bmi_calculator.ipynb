{
 "cells": [
  {
   "cell_type": "code",
   "execution_count": null,
   "metadata": {},
   "outputs": [],
   "source": [
    "name = input(\"Enter your name: \")\n",
    "\n",
    "weight = float(input(\"Enter your weight in pounds: \"))\n",
    "\n",
    "height = float(input(\"Enter your height in inches: \"))\n",
    "\n",
    "BMI = (weight * 703 ) / (height * height)\n",
    "\n",
    "print(\"Your BMI is\", round(BMI, 2))\n",
    "\n",
    "if BMI > 0:\n",
    "    if(BMI < 18.5):\n",
    "        print(name + \", You are underweight.\")\n",
    "    elif (BMI <= 24.9):\n",
    "        print(name + \",You are normal weight.\")\n",
    "    elif (BMI < 29.9):\n",
    "        print(name + \",You are overweight.\")\n",
    "    elif (BMI < 34.9):\n",
    "        print(name + \",You are severely obese.\")\n",
    "    else:\n",
    "        print(name + \",Enter valid input.\")\n",
    "else:\n",
    "    print(\"Enter valid input\")"
   ]
  },
  {
   "cell_type": "markdown",
   "metadata": {},
   "source": [
    "##### Under 18.5\tUnderweight\tMinimal\n",
    "##### 18.5 - 24.9\tNormal Weight\tMinimal\n",
    "##### 25 - 29.9\tOverweight\tIncreased\n",
    "##### 30 - 34.9\tObese\tHigh\n",
    "##### 35 - 39.9\tSeverely Obese\tVery High\n",
    "##### 40 and over\tMorbidly Obese\tExtremely High"
   ]
  }
 ],
 "metadata": {
  "kernelspec": {
   "display_name": "Python 3",
   "language": "python",
   "name": "python3"
  },
  "language_info": {
   "codemirror_mode": {
    "name": "ipython",
    "version": 3
   },
   "file_extension": ".py",
   "mimetype": "text/x-python",
   "name": "python",
   "nbconvert_exporter": "python",
   "pygments_lexer": "ipython3",
   "version": "3.13.0"
  }
 },
 "nbformat": 4,
 "nbformat_minor": 2
}
